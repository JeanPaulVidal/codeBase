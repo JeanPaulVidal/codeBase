{
 "cells": [
  {
   "cell_type": "code",
   "execution_count": 2,
   "id": "f32e86ef-77a7-415a-a357-dd28dafcf516",
   "metadata": {},
   "outputs": [
    {
     "name": "stdout",
     "output_type": "stream",
     "text": [
      "[1, 2, 3, 4, 5]\n",
      "[8, 5, 4, 5, 8]\n",
      "[1, 2, 3, 4, 5]\n",
      "[8, 5, 4, 5, 8]\n",
      "[26.666666666666668, 16.666666666666668, 13.333333333333334, 16.666666666666668, 26.666666666666668]\n",
      "[26.666666666666668, 43.333333333333336, 56.66666666666667, 73.33333333333334, 100.00000000000001]\n",
      "|   Clase |   Fa |      Fr |    Fr Ac |\n",
      "|---------+------+---------+----------|\n",
      "|       1 |    8 | 26.6667 |  26.6667 |\n",
      "|       2 |    5 | 16.6667 |  43.3333 |\n",
      "|       3 |    4 | 13.3333 |  56.6667 |\n",
      "|       4 |    5 | 16.6667 |  73.3333 |\n",
      "|       5 |    8 | 26.6667 | 100      |\n"
     ]
    }
   ],
   "source": [
    "import CodeBase.Carmen as car\n",
    "import CodeBase.Jean as jen\n",
    "import CodeBase.Mary as mar\n",
    "import CodeBase.Edwin as ed\n",
    "import CodeBase.Ivan as iv\n",
    "#\n",
    "datos = [\n",
    "  1, 2, 2, 4, 5, 2, 3, 4, 5, 1,\n",
    "  3, 4, 5, 1, 2, 5, 5, 1, 4, 3,\n",
    "  5, 1, 2, 3, 4, 1, 1, 1, 5, 5\n",
    "]\n",
    "\n",
    "clases, fabs = car.frec_abs(datos)\n",
    "clases_sorted = jen.get_clases(clases)\n",
    "fabs_sorted = mar.sort_clases_fa(clases, clases_sorted, fabs)\n",
    "frs = ed.frecRel(fabs_sorted)\n",
    "facumuladas = iv.calcular_frecuencia_acumulada(frs)\n",
    "print(clases)\n",
    "print(fabs)\n",
    "print(clases_sorted)\n",
    "print(fabs_sorted)\n",
    "print(frs)\n",
    "print(facumuladas)\n",
    "\n",
    "\n",
    "# Imprimir tabla\n",
    "def printTable(encabezados, contenido):\n",
    "    '''\n",
    "        Dados 2 arreglos del mismo tamaño, crea una tabla  con encabezados y contenido\n",
    "        Ejemplo:\n",
    "            clases = [0, 5, 7, 6, 4, 2]\n",
    "            frecAbs = [2, 3, 2, 1, 1, 2]\n",
    "            printTable([\"Clase\", \"Fa\"], [clases, frecAbs])\n",
    "    '''\n",
    "    from tabulate import tabulate\n",
    "    if(len(encabezados) == len(contenido)):\n",
    "        data = list(zip(*contenido))\n",
    "        table = tabulate(data, headers=encabezados, tablefmt=\"orgtbl\")\n",
    "        print(table)\n",
    "\n",
    "printTable([\"Clase\", \"Fa\", \"Fr\", \"Fr Ac\"], [clases_sorted, fabs_sorted, frs, facumuladas])"
   ]
  }
 ],
 "metadata": {
  "kernelspec": {
   "display_name": "Python 3 (ipykernel)",
   "language": "python",
   "name": "python3"
  },
  "language_info": {
   "codemirror_mode": {
    "name": "ipython",
    "version": 3
   },
   "file_extension": ".py",
   "mimetype": "text/x-python",
   "name": "python",
   "nbconvert_exporter": "python",
   "pygments_lexer": "ipython3",
   "version": "3.11.4"
  }
 },
 "nbformat": 4,
 "nbformat_minor": 5
}
