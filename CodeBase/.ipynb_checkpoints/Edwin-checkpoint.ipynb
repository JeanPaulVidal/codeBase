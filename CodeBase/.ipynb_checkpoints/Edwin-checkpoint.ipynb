{
 "cells": [
  {
   "cell_type": "code",
   "execution_count": 1,
   "id": "dc331604-0160-4209-8669-157c43c74183",
   "metadata": {},
   "outputs": [],
   "source": [
    "# Frecuencia Relativa\n",
    "def frecRel(frecAbs):\n",
    "    frecRel = []\n",
    "    frecAbsT = sum(frecAbs)\n",
    "    for element in frecAbs:\n",
    "        fr = 100 / frecAbsT * element\n",
    "        frecRel.append(fr)\n",
    "    return frecRel"
   ]
  },
  {
   "cell_type": "code",
   "execution_count": 2,
   "id": "25187045-5f69-435c-991b-2844df8dde6f",
   "metadata": {},
   "outputs": [
    {
     "name": "stdout",
     "output_type": "stream",
     "text": [
      "[26.666666666666668, 16.666666666666668, 13.333333333333334, 16.666666666666668, 26.666666666666668]\n"
     ]
    }
   ],
   "source": [
    "dataTest = [8,5,4,5,8]\n",
    "print(frecRel(dataTest))"
   ]
  }
 ],
 "metadata": {
  "kernelspec": {
   "display_name": "Python 3 (ipykernel)",
   "language": "python",
   "name": "python3"
  },
  "language_info": {
   "codemirror_mode": {
    "name": "ipython",
    "version": 3
   },
   "file_extension": ".py",
   "mimetype": "text/x-python",
   "name": "python",
   "nbconvert_exporter": "python",
   "pygments_lexer": "ipython3",
   "version": "3.11.4"
  }
 },
 "nbformat": 4,
 "nbformat_minor": 5
}
