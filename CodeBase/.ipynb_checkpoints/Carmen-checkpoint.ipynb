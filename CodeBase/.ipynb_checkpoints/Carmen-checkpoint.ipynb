{
 "cells": [
  {
   "cell_type": "code",
   "execution_count": 1,
   "id": "4c7152fe-ff25-4709-9c2a-f8289e1c960a",
   "metadata": {},
   "outputs": [],
   "source": [
    "def frec_abs(datos_entrada):\n",
    "    datos_entrada.sort()\n",
    "    clases, fa_absoluta = [], []\n",
    "    for elemento in datos_entrada:\n",
    "        if elemento not in clases:\n",
    "            clases.append(elemento)\n",
    "            fa_absoluta.append(1)\n",
    "        else:        \n",
    "            idx = clases.index(elemento)        \n",
    "            fa_absoluta[idx] += 1\n",
    "\n",
    "    return clases, fa_absoluta  "
   ]
  },
  {
   "cell_type": "code",
   "execution_count": 2,
   "id": "6ac21586-8f86-4042-a299-40c362e68930",
   "metadata": {},
   "outputs": [
    {
     "name": "stdout",
     "output_type": "stream",
     "text": [
      "([1, 2, 3, 4, 5], [8, 5, 4, 5, 8])\n"
     ]
    }
   ],
   "source": [
    "datos = [1,2,2,4,5,2,3,4,5,3,1,4,5,1,2,5,5,1,4,3,5,1,2,3,4,1,1,1,5,5]\n",
    "distFrec = frec_abs(datos)\n",
    "print(distFrec)"
   ]
  },
  {
   "cell_type": "code",
   "execution_count": null,
   "id": "af1a2ce3-637c-4040-9745-9b937ab8b4da",
   "metadata": {},
   "outputs": [],
   "source": []
  }
 ],
 "metadata": {
  "kernelspec": {
   "display_name": "Python 3 (ipykernel)",
   "language": "python",
   "name": "python3"
  },
  "language_info": {
   "codemirror_mode": {
    "name": "ipython",
    "version": 3
   },
   "file_extension": ".py",
   "mimetype": "text/x-python",
   "name": "python",
   "nbconvert_exporter": "python",
   "pygments_lexer": "ipython3",
   "version": "3.11.4"
  }
 },
 "nbformat": 4,
 "nbformat_minor": 5
}
