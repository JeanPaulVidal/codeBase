{
 "cells": [
  {
   "cell_type": "code",
   "execution_count": null,
   "id": "f73848e3-be6c-4db9-99c0-003205178818",
   "metadata": {},
   "outputs": [],
   "source": [
    "import CodeBase.DatosCualitativos as dc\n",
    "import CodeBase.Edwin as ed\n",
    "import CodeBase.GenerarGraficas as gg\n",
    "\n",
    "# DATOS\n",
    "datos = [\"Toronja\",\"Cola\",\"Naranja\",\"Naranja\",\"Cola light\",\"Cola\",\"Manzana\",\"Cola light\",\"Limón\",\"Toronja\",\"Cola\",\n",
    "         \"Limón\",\"Cola\",\"Cola light\",\"Cola\",\"Toronja\",\"Cola light\",\"Cola\",\"Limón\",\"Manzana\",\"Toronja\",\"Cola\",\"Limón\",\n",
    "         \"Toronja\",\"Cola light\",\"MAnzana\",\"Cola\",\"NarAnja\",\"Cola\",\"Cola light\"]\n",
    "\n",
    "# CALCULAR DATOS\n",
    "clases, fa, faAc, fr, frAc = dc.generateQualitativeData(datos)\n",
    "\n",
    "# IMPRIMIR TABLA\n",
    "ed.printHTMLTable([\"Clase\", \"F<sub>a</sub>\", \"F<sub>r</sub>\", \"F<sub>r</sub> Acum.\"], [clases, fa, fr, frAc])\n",
    "\n",
    "# MOSTRAR GRAFICAS\n",
    "gg.displayCharts(clases, fa, fr, frAc)"
   ]
  }
 ],
 "metadata": {
  "kernelspec": {
   "display_name": "Python 3 (ipykernel)",
   "language": "python",
   "name": "python3"
  },
  "language_info": {
   "codemirror_mode": {
    "name": "ipython",
    "version": 3
   },
   "file_extension": ".py",
   "mimetype": "text/x-python",
   "name": "python",
   "nbconvert_exporter": "python",
   "pygments_lexer": "ipython3",
   "version": "3.12.3"
  }
 },
 "nbformat": 4,
 "nbformat_minor": 5
}
