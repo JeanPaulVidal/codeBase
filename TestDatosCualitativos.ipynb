{
 "cells": [
  {
   "cell_type": "code",
   "execution_count": 10,
   "id": "f73848e3-be6c-4db9-99c0-003205178818",
   "metadata": {},
   "outputs": [
    {
     "data": {
      "text/html": [
       "<center><table><tr><th style='border: 1px #ccc solid; text-align: center;'>Clase</th><th style='border: 1px #ccc solid; text-align: center;'>F<sub>a</sub></th><th style='border: 1px #ccc solid; text-align: center;'>F<sub>r</sub></th><th style='border: 1px #ccc solid; text-align: center;'>F<sub>r</sub> Acum.</th></tr><tr><td style='border: 1px #ccc solid; text-align: center;'>cola</td><td style='border: 1px #ccc solid; text-align: center;'>9</td><td style='border: 1px #ccc solid; text-align: center;'>30.0</td><td style='border: 1px #ccc solid; text-align: center;'>30.0</td></tr><tr><td style='border: 1px #ccc solid; text-align: center;'>cola light</td><td style='border: 1px #ccc solid; text-align: center;'>6</td><td style='border: 1px #ccc solid; text-align: center;'>20.0</td><td style='border: 1px #ccc solid; text-align: center;'>50.0</td></tr><tr><td style='border: 1px #ccc solid; text-align: center;'>limón</td><td style='border: 1px #ccc solid; text-align: center;'>4</td><td style='border: 1px #ccc solid; text-align: center;'>13.333</td><td style='border: 1px #ccc solid; text-align: center;'>63.333</td></tr><tr><td style='border: 1px #ccc solid; text-align: center;'>manzana</td><td style='border: 1px #ccc solid; text-align: center;'>3</td><td style='border: 1px #ccc solid; text-align: center;'>10.0</td><td style='border: 1px #ccc solid; text-align: center;'>73.333</td></tr><tr><td style='border: 1px #ccc solid; text-align: center;'>naranja</td><td style='border: 1px #ccc solid; text-align: center;'>3</td><td style='border: 1px #ccc solid; text-align: center;'>10.0</td><td style='border: 1px #ccc solid; text-align: center;'>83.333</td></tr><tr><td style='border: 1px #ccc solid; text-align: center;'>toronja</td><td style='border: 1px #ccc solid; text-align: center;'>5</td><td style='border: 1px #ccc solid; text-align: center;'>16.667</td><td style='border: 1px #ccc solid; text-align: center;'>100.0</td></tr></table></center>"
      ],
      "text/plain": [
       "<IPython.core.display.HTML object>"
      ]
     },
     "metadata": {},
     "output_type": "display_data"
    }
   ],
   "source": [
    "import CodeBase.DatosCualitativos as dc\n",
    "import CodeBase.Edwin as ed\n",
    "\n",
    "datos = [\"Toronja\",\"Cola\",\"Naranja\",\"Naranja\",\"Cola light\",\"Cola\",\"Manzana\",\"Cola light\",\"Limón\",\"Toronja\",\"Cola\",\n",
    "         \"Limón\",\"Cola\",\"Cola light\",\"Cola\",\"Toronja\",\"Cola light\",\"Cola\",\"Limón\",\"Manzana\",\"Toronja\",\"Cola\",\"Limón\",\n",
    "         \"Toronja\",\"Cola light\",\"MAnzana\",\"Cola\",\"NarAnja\",\"Cola\",\"Cola light\"]\n",
    "\n",
    "clases, fa, faAc, fr, frAc = dc.generateQualitativeData(datos)\n",
    "ed.printHTMLTable([\"Clase\", \"F<sub>a</sub>\", \"F<sub>r</sub>\", \"F<sub>r</sub> Acum.\"], [clases, fa, fr, frAc])"
   ]
  }
 ],
 "metadata": {
  "kernelspec": {
   "display_name": "Python 3 (ipykernel)",
   "language": "python",
   "name": "python3"
  },
  "language_info": {
   "codemirror_mode": {
    "name": "ipython",
    "version": 3
   },
   "file_extension": ".py",
   "mimetype": "text/x-python",
   "name": "python",
   "nbconvert_exporter": "python",
   "pygments_lexer": "ipython3",
   "version": "3.12.3"
  }
 },
 "nbformat": 4,
 "nbformat_minor": 5
}
