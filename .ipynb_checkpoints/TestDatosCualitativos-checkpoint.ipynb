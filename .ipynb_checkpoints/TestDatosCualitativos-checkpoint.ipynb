{
 "cells": [
  {
   "cell_type": "code",
   "execution_count": 2,
   "id": "f73848e3-be6c-4db9-99c0-003205178818",
   "metadata": {},
   "outputs": [
    {
     "data": {
      "text/html": [
       "<center><table><tr><th style='border: 1px #ccc solid; text-align: center;'>Clase</th><th style='border: 1px #ccc solid; text-align: center;'>Fr</th><th style='border: 1px #ccc solid; text-align: center;'>Fr Ac</th></tr><tr><td style='border: 1px #ccc solid; text-align: center;'>cola</td><td style='border: 1px #ccc solid; text-align: center;'>30.0</td><td style='border: 1px #ccc solid; text-align: center;'>30.0</td></tr><tr><td style='border: 1px #ccc solid; text-align: center;'>cola light</td><td style='border: 1px #ccc solid; text-align: center;'>20.0</td><td style='border: 1px #ccc solid; text-align: center;'>50.0</td></tr><tr><td style='border: 1px #ccc solid; text-align: center;'>limón</td><td style='border: 1px #ccc solid; text-align: center;'>13.333333333333334</td><td style='border: 1px #ccc solid; text-align: center;'>63.333333333333336</td></tr><tr><td style='border: 1px #ccc solid; text-align: center;'>manzana</td><td style='border: 1px #ccc solid; text-align: center;'>10.0</td><td style='border: 1px #ccc solid; text-align: center;'>73.33333333333334</td></tr><tr><td style='border: 1px #ccc solid; text-align: center;'>naranja</td><td style='border: 1px #ccc solid; text-align: center;'>10.0</td><td style='border: 1px #ccc solid; text-align: center;'>83.33333333333334</td></tr><tr><td style='border: 1px #ccc solid; text-align: center;'>toronja</td><td style='border: 1px #ccc solid; text-align: center;'>16.666666666666668</td><td style='border: 1px #ccc solid; text-align: center;'>100.00000000000001</td></tr></table></center>"
      ],
      "text/plain": [
       "<IPython.core.display.HTML object>"
      ]
     },
     "metadata": {},
     "output_type": "display_data"
    }
   ],
   "source": [
    "import CodeBase.DatosCualitativos as dc\n",
    "\n",
    "datos = [\"Toronja\",\"Cola\",\"Naranja\",\"Naranja\",\"Cola light\",\"Cola\",\"Manzana\",\"Cola light\",\"Limón\",\"Toronja\",\"Cola\",\n",
    "         \"Limón\",\"Cola\",\"Cola light\",\"Cola\",\"Toronja\",\"Cola light\",\"Cola\",\"Limón\",\"Manzana\",\"Toronja\",\"Cola\",\"Limón\",\n",
    "         \"Toronja\",\"Cola light\",\"Manzana\",\"Cola\",\"Naranja\",\"Cola\",\"Cola light\"]\n",
    "dc.mostrarTabla(datos)"
   ]
  }
 ],
 "metadata": {
  "kernelspec": {
   "display_name": "Python 3 (ipykernel)",
   "language": "python",
   "name": "python3"
  },
  "language_info": {
   "codemirror_mode": {
    "name": "ipython",
    "version": 3
   },
   "file_extension": ".py",
   "mimetype": "text/x-python",
   "name": "python",
   "nbconvert_exporter": "python",
   "pygments_lexer": "ipython3",
   "version": "3.11.4"
  }
 },
 "nbformat": 4,
 "nbformat_minor": 5
}
