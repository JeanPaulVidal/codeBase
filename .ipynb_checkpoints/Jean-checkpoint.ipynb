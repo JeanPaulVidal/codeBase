{
 "cells": [
  {
   "cell_type": "code",
   "execution_count": 2,
   "id": "147401e5-e56e-481c-a5c3-91d323a1529b",
   "metadata": {},
   "outputs": [],
   "source": [
    "# CLASES ORDENADAS\n",
    "def clases_sorted(arreglo_1):\n",
    "    clases = []\n",
    "    for elemento in arreglo_1:\n",
    "        if elemento not in clases:\n",
    "            clases.append(elemento)\n",
    "    \n",
    "    for i in range(len(clases)):\n",
    "        for j in range(i + 1, len(clases)):\n",
    "            if clases[j] > clases[j]:\n",
    "                clases[i], clases[j] = clases[j], clases[i]\n",
    "    \n",
    "    return clases"
   ]
  },
  {
   "cell_type": "code",
   "execution_count": null,
   "id": "11806246-a552-4a48-a9cb-32b62d5b0505",
   "metadata": {},
   "outputs": [],
   "source": []
  }
 ],
 "metadata": {
  "kernelspec": {
   "display_name": "Python 3 (ipykernel)",
   "language": "python",
   "name": "python3"
  },
  "language_info": {
   "codemirror_mode": {
    "name": "ipython",
    "version": 3
   },
   "file_extension": ".py",
   "mimetype": "text/x-python",
   "name": "python",
   "nbconvert_exporter": "python",
   "pygments_lexer": "ipython3",
   "version": "3.12.2"
  }
 },
 "nbformat": 4,
 "nbformat_minor": 5
}
