{
 "cells": [
  {
   "cell_type": "code",
   "execution_count": 2,
   "id": "aafdab9b-c099-403b-94a5-ab50ecb4efd4",
   "metadata": {},
   "outputs": [
    {
     "data": {
      "text/html": [
       "<center><table><tr><th style='border: 1px #ccc solid; text-align: center;'>Clases</th><th style='border: 1px #ccc solid; text-align: center;'>Límites inferiores</th><th style='border: 1px #ccc solid; text-align: center;'>Límites superiores</th><th style='border: 1px #ccc solid; text-align: center;'>Marca de clase</th><th style='border: 1px #ccc solid; text-align: center;'>Fa</th><th style='border: 1px #ccc solid; text-align: center;'>Fr</th><th style='border: 1px #ccc solid; text-align: center;'>Fr Ac.</th></tr><tr><td style='border: 1px #ccc solid; text-align: center;'>1</td><td style='border: 1px #ccc solid; text-align: center;'>0.0</td><td style='border: 1px #ccc solid; text-align: center;'>0.33</td><td style='border: 1px #ccc solid; text-align: center;'>0.165</td><td style='border: 1px #ccc solid; text-align: center;'>6</td><td style='border: 1px #ccc solid; text-align: center;'>30.0</td><td style='border: 1px #ccc solid; text-align: center;'>30.0</td></tr><tr><td style='border: 1px #ccc solid; text-align: center;'>2</td><td style='border: 1px #ccc solid; text-align: center;'>0.33</td><td style='border: 1px #ccc solid; text-align: center;'>0.66</td><td style='border: 1px #ccc solid; text-align: center;'>0.495</td><td style='border: 1px #ccc solid; text-align: center;'>4</td><td style='border: 1px #ccc solid; text-align: center;'>20.0</td><td style='border: 1px #ccc solid; text-align: center;'>50.0</td></tr><tr><td style='border: 1px #ccc solid; text-align: center;'>3</td><td style='border: 1px #ccc solid; text-align: center;'>0.66</td><td style='border: 1px #ccc solid; text-align: center;'>0.99</td><td style='border: 1px #ccc solid; text-align: center;'>0.825</td><td style='border: 1px #ccc solid; text-align: center;'>3</td><td style='border: 1px #ccc solid; text-align: center;'>15.0</td><td style='border: 1px #ccc solid; text-align: center;'>65.0</td></tr><tr><td style='border: 1px #ccc solid; text-align: center;'>4</td><td style='border: 1px #ccc solid; text-align: center;'>0.99</td><td style='border: 1px #ccc solid; text-align: center;'>1.32</td><td style='border: 1px #ccc solid; text-align: center;'>1.155</td><td style='border: 1px #ccc solid; text-align: center;'>3</td><td style='border: 1px #ccc solid; text-align: center;'>15.0</td><td style='border: 1px #ccc solid; text-align: center;'>80.0</td></tr><tr><td style='border: 1px #ccc solid; text-align: center;'>5</td><td style='border: 1px #ccc solid; text-align: center;'>1.32</td><td style='border: 1px #ccc solid; text-align: center;'>1.65</td><td style='border: 1px #ccc solid; text-align: center;'>1.485</td><td style='border: 1px #ccc solid; text-align: center;'>4</td><td style='border: 1px #ccc solid; text-align: center;'>20.0</td><td style='border: 1px #ccc solid; text-align: center;'>100.0</td></tr></table></center>"
      ],
      "text/plain": [
       "<IPython.core.display.HTML object>"
      ]
     },
     "metadata": {},
     "output_type": "display_data"
    }
   ],
   "source": [
    "import CodeBase.DatosAgrupados as da\n",
    "import CodeBase.Edwin as ed\n",
    "\n",
    "datos = [0,0,0.33,0.33,0.33,0.33,0.66,0.66,0.66,0.66,0.99,0.99,0.99,1.32,1.32,1.32,1.65,1.65,1.65,1.65]\n",
    "clases, limsInf, limsSup, mrksClases, fa, fr, frAc = da.generateGroupedData(datos)\n",
    "\n",
    "ed.printHTMLTable([\"Clases\", \"Límites inferiores\", \"Límites superiores\", \"Marca de clase\", \"Fa\", \"Fr\", \"Fr Ac.\"],[clases, limsInf, limsSup, mrksClases, fa, fr, frAc])"
   ]
  }
 ],
 "metadata": {
  "kernelspec": {
   "display_name": "Python 3 (ipykernel)",
   "language": "python",
   "name": "python3"
  },
  "language_info": {
   "codemirror_mode": {
    "name": "ipython",
    "version": 3
   },
   "file_extension": ".py",
   "mimetype": "text/x-python",
   "name": "python",
   "nbconvert_exporter": "python",
   "pygments_lexer": "ipython3",
   "version": "3.12.3"
  }
 },
 "nbformat": 4,
 "nbformat_minor": 5
}
