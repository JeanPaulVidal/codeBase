{
 "cells": [
  {
   "cell_type": "code",
   "execution_count": 4,
   "id": "aafdab9b-c099-403b-94a5-ab50ecb4efd4",
   "metadata": {},
   "outputs": [
    {
     "data": {
      "text/html": [
       "<center><table><tr><th style='border: 1px #ccc solid; text-align: center;'>Clases</th><th style='border: 1px #ccc solid; text-align: center;'>Límites inferiores</th><th style='border: 1px #ccc solid; text-align: center;'>Límites superiores</th><th style='border: 1px #ccc solid; text-align: center;'>Marca de clase</th><th style='border: 1px #ccc solid; text-align: center;'>Fa</th><th style='border: 1px #ccc solid; text-align: center;'>Fr</th><th style='border: 1px #ccc solid; text-align: center;'>Fr Ac.</th></tr><tr><td style='border: 1px #ccc solid; text-align: center;'>1</td><td style='border: 1px #ccc solid; text-align: center;'>0.0</td><td style='border: 1px #ccc solid; text-align: center;'>0.32999999999999996</td><td style='border: 1px #ccc solid; text-align: center;'>0.16499999999999998</td><td style='border: 1px #ccc solid; text-align: center;'>2</td><td style='border: 1px #ccc solid; text-align: center;'>10.0</td><td style='border: 1px #ccc solid; text-align: center;'>10.0</td></tr><tr><td style='border: 1px #ccc solid; text-align: center;'>2</td><td style='border: 1px #ccc solid; text-align: center;'>0.32999999999999996</td><td style='border: 1px #ccc solid; text-align: center;'>0.6599999999999999</td><td style='border: 1px #ccc solid; text-align: center;'>0.49499999999999994</td><td style='border: 1px #ccc solid; text-align: center;'>4</td><td style='border: 1px #ccc solid; text-align: center;'>20.0</td><td style='border: 1px #ccc solid; text-align: center;'>30.0</td></tr><tr><td style='border: 1px #ccc solid; text-align: center;'>3</td><td style='border: 1px #ccc solid; text-align: center;'>0.6599999999999999</td><td style='border: 1px #ccc solid; text-align: center;'>0.9899999999999999</td><td style='border: 1px #ccc solid; text-align: center;'>0.825</td><td style='border: 1px #ccc solid; text-align: center;'>4</td><td style='border: 1px #ccc solid; text-align: center;'>20.0</td><td style='border: 1px #ccc solid; text-align: center;'>50.0</td></tr><tr><td style='border: 1px #ccc solid; text-align: center;'>4</td><td style='border: 1px #ccc solid; text-align: center;'>0.9899999999999999</td><td style='border: 1px #ccc solid; text-align: center;'>1.3199999999999998</td><td style='border: 1px #ccc solid; text-align: center;'>1.1549999999999998</td><td style='border: 1px #ccc solid; text-align: center;'>3</td><td style='border: 1px #ccc solid; text-align: center;'>15.0</td><td style='border: 1px #ccc solid; text-align: center;'>65.0</td></tr><tr><td style='border: 1px #ccc solid; text-align: center;'>5</td><td style='border: 1px #ccc solid; text-align: center;'>1.3199999999999998</td><td style='border: 1px #ccc solid; text-align: center;'>1.65</td><td style='border: 1px #ccc solid; text-align: center;'>1.4849999999999999</td><td style='border: 1px #ccc solid; text-align: center;'>7</td><td style='border: 1px #ccc solid; text-align: center;'>35.0</td><td style='border: 1px #ccc solid; text-align: center;'>100.0</td></tr></table></center>"
      ],
      "text/plain": [
       "<IPython.core.display.HTML object>"
      ]
     },
     "metadata": {},
     "output_type": "display_data"
    }
   ],
   "source": [
    "import CodeBase.DatosAgrupados as da\n",
    "import CodeBase.DatosCualitativos as dc\n",
    "\n",
    "datos = [0,0,0.33,0.33,0.33,0.33,0.66,0.66,0.66,0.66,0.99,0.99,0.99,1.32,1.32,1.32,1.65,1.65,1.65,1.65]\n",
    "clases, limsInf, limsSup, mrksClases = da.clases_groped(datos)\n",
    "#print(clases)\n",
    "#print(limsInf)\n",
    "#print(limsSup)\n",
    "#print(mrksClases)\n",
    "fa = da.faGrouped(limsSup, limsInf, datos)\n",
    "#print(fa)\n",
    "#print(fr)\n",
    "#print(frAc)\n",
    "fr = da.frecRel(fa)\n",
    "frAc = da.frecAc(fr)\n",
    "\n",
    "dc.printHTMLTable([\"Clases\", \"Límites inferiores\", \"Límites superiores\", \"Marca de clase\", \"Fa\", \"Fr\", \"Fr Ac.\"],[clases, limsInf, limsSup, mrksClases, fa, fr, frAc])\n",
    "\n",
    "\n"
   ]
  }
 ],
 "metadata": {
  "kernelspec": {
   "display_name": "Python 3 (ipykernel)",
   "language": "python",
   "name": "python3"
  },
  "language_info": {
   "codemirror_mode": {
    "name": "ipython",
    "version": 3
   },
   "file_extension": ".py",
   "mimetype": "text/x-python",
   "name": "python",
   "nbconvert_exporter": "python",
   "pygments_lexer": "ipython3",
   "version": "3.11.4"
  }
 },
 "nbformat": 4,
 "nbformat_minor": 5
}
